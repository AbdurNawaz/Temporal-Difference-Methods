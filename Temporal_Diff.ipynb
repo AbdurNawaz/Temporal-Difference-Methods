{
  "nbformat": 4,
  "nbformat_minor": 0,
  "metadata": {
    "colab": {
      "name": "Temporal_Diff.ipynb",
      "provenance": [],
      "include_colab_link": true
    },
    "kernelspec": {
      "name": "python3",
      "display_name": "Python 3"
    }
  },
  "cells": [
    {
      "cell_type": "markdown",
      "metadata": {
        "id": "view-in-github",
        "colab_type": "text"
      },
      "source": [
        "<a href=\"https://colab.research.google.com/github/AbdurNawaz/Temporal-Difference-Methods/blob/master/Temporal_Diff.ipynb\" target=\"_parent\"><img src=\"https://colab.research.google.com/assets/colab-badge.svg\" alt=\"Open In Colab\"/></a>"
      ]
    },
    {
      "cell_type": "code",
      "metadata": {
        "id": "w80eqH8EjBG4",
        "colab_type": "code",
        "colab": {}
      },
      "source": [
        "import sys\n",
        "import gym\n",
        "import numpy as np\n",
        "import random\n",
        "import math\n",
        "from collections import defaultdict, deque\n",
        "import matplotlib.pyplot as plt\n",
        "\n",
        "import check_test\n",
        "from plot_utils import plot_values\n"
      ],
      "execution_count": 0,
      "outputs": []
    },
    {
      "cell_type": "code",
      "metadata": {
        "id": "rlUDjrHBkTYi",
        "colab_type": "code",
        "colab": {}
      },
      "source": [
        "env = gym.make('CliffWalking-v0')"
      ],
      "execution_count": 0,
      "outputs": []
    },
    {
      "cell_type": "code",
      "metadata": {
        "id": "EgooH5kJkdKi",
        "colab_type": "code",
        "colab": {
          "base_uri": "https://localhost:8080/",
          "height": 53
        },
        "outputId": "08c77318-1e43-4c74-ee6e-f8e493c16799"
      },
      "source": [
        "print(env.action_space)\n",
        "print(env.observation_space)"
      ],
      "execution_count": 5,
      "outputs": [
        {
          "output_type": "stream",
          "text": [
            "Discrete(4)\n",
            "Discrete(48)\n"
          ],
          "name": "stdout"
        }
      ]
    },
    {
      "cell_type": "code",
      "metadata": {
        "id": "0B31OERokk53",
        "colab_type": "code",
        "colab": {}
      },
      "source": [
        "def update_Q_sarsa(alpha, gamma, Q, state, action, reward, next_state = None, next_action = None):\n",
        "  current = Q[state][action]\n",
        "  Qsa_next = Q[next_state][next_action] if next_state is not None else 0\n",
        "  target = reward + (gamma*Qsa_nest)\n",
        "  new_value = current + alpha*(target - current)\n",
        "  return new_value\n",
        "\n",
        "def epsilon_greedy(Q, state, nA, eps):\n",
        "  if random.random() > eps:\n",
        "    return np.argmax(Q[state])\n",
        "  else:\n",
        "    return random.choice(np.arange(nA))"
      ],
      "execution_count": 0,
      "outputs": []
    },
    {
      "cell_type": "code",
      "metadata": {
        "id": "Q7RciI03wyd_",
        "colab_type": "code",
        "colab": {}
      },
      "source": [
        ""
      ],
      "execution_count": 0,
      "outputs": []
    }
  ]
}